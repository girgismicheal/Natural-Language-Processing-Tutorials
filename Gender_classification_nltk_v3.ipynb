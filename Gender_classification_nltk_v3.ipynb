{
  "nbformat": 4,
  "nbformat_minor": 0,
  "metadata": {
    "colab": {
      "name": "Gender_classification_nltk_v3.ipynb",
      "provenance": []
    },
    "kernelspec": {
      "name": "python3",
      "display_name": "Python 3"
    }
  },
  "cells": [
    {
      "cell_type": "code",
      "metadata": {
        "colab": {
          "base_uri": "https://localhost:8080/"
        },
        "id": "5bUwcPWEyFh-",
        "outputId": "3704e843-a5de-44e1-a8b1-9ab01c392a5d"
      },
      "source": [
        "from nltk.corpus import names\n",
        "import random\n",
        "import nltk \n",
        "\n",
        "# https://www.nltk.org/book/ch06.html\n",
        "\n",
        "def gender_features(word):\n",
        "\treturn {'last_letter': word[-1]}\n",
        "print(gender_features('Shrek'))\n"
      ],
      "execution_count": 1,
      "outputs": [
        {
          "output_type": "stream",
          "text": [
            "{'last_letter': 'k'}\n"
          ],
          "name": "stdout"
        }
      ]
    },
    {
      "cell_type": "code",
      "metadata": {
        "colab": {
          "base_uri": "https://localhost:8080/"
        },
        "id": "ZTyYSwFYys3-",
        "outputId": "d648780d-c96d-422f-cc17-5070d6c389b9"
      },
      "source": [
        "nltk.download('names')"
      ],
      "execution_count": 3,
      "outputs": [
        {
          "output_type": "stream",
          "text": [
            "[nltk_data] Downloading package names to /root/nltk_data...\n",
            "[nltk_data]   Unzipping corpora/names.zip.\n"
          ],
          "name": "stdout"
        },
        {
          "output_type": "execute_result",
          "data": {
            "text/plain": [
              "True"
            ]
          },
          "metadata": {
            "tags": []
          },
          "execution_count": 3
        }
      ]
    },
    {
      "cell_type": "code",
      "metadata": {
        "id": "ORdfmYZoyO81"
      },
      "source": [
        "labeled_names = ([(name, 'male') for name in names.words('male.txt')] +\n",
        "\t[(name, 'female') for name in names.words('female.txt')])\n",
        "\n",
        "random.shuffle(labeled_names)\n",
        "\n",
        "featuresets = [(gender_features(n), gender) for (n, gender) in labeled_names]\n",
        "train_set, test_set = featuresets[500:], featuresets[:500]\n",
        "classifier = nltk.NaiveBayesClassifier.train(train_set)\n"
      ],
      "execution_count": 4,
      "outputs": []
    },
    {
      "cell_type": "code",
      "metadata": {
        "colab": {
          "base_uri": "https://localhost:8080/"
        },
        "id": "XJvnzMqOyfUT",
        "outputId": "04016739-89ad-4110-b4d7-9a4985f764ea"
      },
      "source": [
        "# Scoring\n",
        "print(classifier.classify(gender_features('Neo')))\n",
        "\n",
        "print(classifier.classify(gender_features('Trinity')))\n"
      ],
      "execution_count": 5,
      "outputs": [
        {
          "output_type": "stream",
          "text": [
            "male\n",
            "female\n"
          ],
          "name": "stdout"
        }
      ]
    },
    {
      "cell_type": "code",
      "metadata": {
        "colab": {
          "base_uri": "https://localhost:8080/"
        },
        "id": "Jh1aZljQy0RU",
        "outputId": "21117927-cc4c-4be0-d35d-d3069db57b7a"
      },
      "source": [
        "# Evaluations\n",
        "print(nltk.classify.accuracy(classifier, test_set))\n"
      ],
      "execution_count": 6,
      "outputs": [
        {
          "output_type": "stream",
          "text": [
            "0.796\n"
          ],
          "name": "stdout"
        }
      ]
    },
    {
      "cell_type": "code",
      "metadata": {
        "colab": {
          "base_uri": "https://localhost:8080/"
        },
        "id": "yQ308KYsy4Wt",
        "outputId": "4da70e7e-a2f3-4bfc-b53f-e2b2579d896d"
      },
      "source": [
        "# Examine the classifier to determine which features it found most effective;\n",
        "# likelihood ratios\n",
        "print(classifier.show_most_informative_features(5))\n"
      ],
      "execution_count": 7,
      "outputs": [
        {
          "output_type": "stream",
          "text": [
            "Most Informative Features\n",
            "             last_letter = 'a'            female : male   =     34.6 : 1.0\n",
            "             last_letter = 'k'              male : female =     32.9 : 1.0\n",
            "             last_letter = 'f'              male : female =     17.2 : 1.0\n",
            "             last_letter = 'p'              male : female =     11.8 : 1.0\n",
            "             last_letter = 'd'              male : female =     10.0 : 1.0\n",
            "None\n"
          ],
          "name": "stdout"
        }
      ]
    },
    {
      "cell_type": "code",
      "metadata": {
        "id": "4WtegoA6y98f"
      },
      "source": [
        "\n",
        "# use apply_features to use memory economically, when using large corpora;\n",
        "from nltk.classify import apply_features\n",
        "train_set = apply_features(gender_features, labeled_names[500:])\n",
        "test_set = apply_features(gender_features, labeled_names[:500])\n"
      ],
      "execution_count": 8,
      "outputs": []
    }
  ]
}