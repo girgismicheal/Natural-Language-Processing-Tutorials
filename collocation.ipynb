{
 "nbformat": 4,
 "nbformat_minor": 0,
 "metadata": {
  "colab": {
   "name": "collocation_1.ipynb",
   "provenance": []
  },
  "kernelspec": {
   "name": "python3",
   "display_name": "Python 3"
  }
 },
 "cells": [
  {
   "cell_type": "code",
   "metadata": {
    "id": "RLv5V7T6aqBd"
   },
   "source": [
    "import nltk\n",
    "from nltk.collocations import *"
   ],
   "execution_count": 2,
   "outputs": []
  },
  {
   "cell_type": "code",
   "metadata": {
    "colab": {
     "base_uri": "https://localhost:8080/"
    },
    "id": "UharlRBplmXw",
    "outputId": "ad9a9264-1076-4481-924d-69c856ce1d48"
   },
   "source": [
    "#nltk.download('genesis')\n",
    "bigram_measures = nltk.collocations.BigramAssocMeasures()\n",
    "\n",
    "trigram_measures = nltk.collocations.TrigramAssocMeasures()\n",
    "finder = BigramCollocationFinder.from_words(\n",
    "\tnltk.corpus.genesis.words('english-web.txt'))\n",
    "\n",
    "#top ten bigram collocations in Genesis\n",
    "print(finder.nbest(bigram_measures.pmi, 10))  # doctest: +NORMALIZE_WHITESPACE"
   ],
   "execution_count": 4,
   "outputs": [
    {
     "output_type": "stream",
     "text": [
      "[nltk_data] Downloading package genesis to /root/nltk_data...\n",
      "[nltk_data]   Unzipping corpora/genesis.zip.\n",
      "[('Allon', 'Bacuth'), ('Ashteroth', 'Karnaim'), ('Ben', 'Ammi'), ('En', 'Mishpat'), ('Jegar', 'Sahadutha'), ('Salt', 'Sea'), ('Whoever', 'sheds'), ('appoint', 'overseers'), ('aromatic', 'resin'), ('cutting', 'instrument')]\n"
     ],
     "name": "stdout"
    }
   ]
  },
  {
   "cell_type": "code",
   "metadata": {
    "colab": {
     "base_uri": "https://localhost:8080/"
    },
    "id": "XfWJjTeomEsH",
    "outputId": "e3caf9fc-9acd-4fcc-f95d-eb56ab8e3854"
   },
   "source": [
    "print('------------Should Occure > 3 times----------')\n",
    "#ignoring all bigrams which occur less than three times;\n",
    "finder.apply_freq_filter(3)\n",
    "print(finder.nbest(bigram_measures.pmi, 10))"
   ],
   "execution_count": 7,
   "outputs": [
    {
     "output_type": "stream",
     "text": [
      "------------Should Occure > 3 times----------\n",
      "[('Beer', 'Lahai'), ('Lahai', 'Roi'), ('gray', 'hairs'), ('Most', 'High'), ('ewe', 'lambs'), ('many', 'colors'), ('burnt', 'offering'), ('Paddan', 'Aram'), ('east', 'wind'), ('living', 'creature')]\n"
     ],
     "name": "stdout"
    }
   ]
  },
  {
   "cell_type": "code",
   "metadata": {
    "colab": {
     "base_uri": "https://localhost:8080/"
    },
    "id": "KccnfWtAnHGX",
    "outputId": "3acb04fe-2830-4347-d870-d6d289a6ff4c"
   },
   "source": [
    "nltk.download('brown')\n",
    "nltk.download('universal_tagset')\n",
    "print('---------Only Tags-------------')\n",
    "\n",
    "finder = BigramCollocationFinder.from_words(t for w, t in\n",
    "\tnltk.corpus.brown.tagged_words('ca01', tagset='universal'))\n",
    "print(finder.nbest(bigram_measures.pmi, 10) ) # doctest: +NORMALIZE_WHITESPACE\n",
    "print('----------------------')"
   ],
   "execution_count": 9,
   "outputs": [
    {
     "output_type": "stream",
     "text": [
      "[nltk_data] Downloading package brown to /root/nltk_data...\n",
      "[nltk_data]   Package brown is already up-to-date!\n",
      "[nltk_data] Downloading package universal_tagset to /root/nltk_data...\n",
      "[nltk_data]   Unzipping taggers/universal_tagset.zip.\n",
      "---------Only Tags-------------\n",
      "[('PRT', 'VERB'), ('PRON', 'VERB'), ('ADP', 'DET'), ('.', 'PRON'), ('DET', 'ADJ'), ('CONJ', 'PRON'), ('ADP', 'NUM'), ('NUM', '.'), ('ADV', 'ADV'), ('VERB', 'ADV')]\n",
      "----------------------\n"
     ],
     "name": "stdout"
    }
   ]
  },
  {
   "cell_type": "code",
   "metadata": {
    "id": "JtAVuXJ2at4x"
   },
   "source": [],
   "execution_count": null,
   "outputs": []
  }
 ]
}
