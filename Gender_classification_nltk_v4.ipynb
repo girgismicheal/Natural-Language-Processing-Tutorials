{
  "nbformat": 4,
  "nbformat_minor": 0,
  "metadata": {
    "colab": {
      "name": "Gender_classification_nltk_v4.ipynb",
      "provenance": []
    },
    "kernelspec": {
      "name": "python3",
      "display_name": "Python 3"
    }
  },
  "cells": [
    {
      "cell_type": "code",
      "metadata": {
        "colab": {
          "base_uri": "https://localhost:8080/"
        },
        "id": "JGtNpRX80sxk",
        "outputId": "3d718cc5-13cf-4830-8b73-415d81140744"
      },
      "source": [
        "from nltk.corpus import names\n",
        "import random\n",
        "import nltk \n",
        "\n",
        "# https://www.nltk.org/book/ch06.html\n",
        "nltk.download('names')\n",
        "\n",
        "def gender_features2(name):\n",
        "    features = {}\n",
        "    features[\"first_letter\"] = name[0].lower()\n",
        "    features[\"last_letter\"] = name[-1].lower()\n",
        "    for letter in 'abcdefghijklmnopqrstuvwxyz':\n",
        "        features[\"count({})\".format(letter)] = name.lower().count(letter)\n",
        "        features[\"has({})\".format(letter)] = (letter in name.lower())\n",
        "    return features\n",
        "print(gender_features2('Shrek'))\n"
      ],
      "execution_count": 5,
      "outputs": [
        {
          "output_type": "stream",
          "text": [
            "[nltk_data] Downloading package names to /root/nltk_data...\n",
            "[nltk_data]   Package names is already up-to-date!\n",
            "{'first_letter': 's', 'last_letter': 'k', 'count(a)': 0, 'has(a)': False, 'count(b)': 0, 'has(b)': False, 'count(c)': 0, 'has(c)': False, 'count(d)': 0, 'has(d)': False, 'count(e)': 1, 'has(e)': True, 'count(f)': 0, 'has(f)': False, 'count(g)': 0, 'has(g)': False, 'count(h)': 1, 'has(h)': True, 'count(i)': 0, 'has(i)': False, 'count(j)': 0, 'has(j)': False, 'count(k)': 1, 'has(k)': True, 'count(l)': 0, 'has(l)': False, 'count(m)': 0, 'has(m)': False, 'count(n)': 0, 'has(n)': False, 'count(o)': 0, 'has(o)': False, 'count(p)': 0, 'has(p)': False, 'count(q)': 0, 'has(q)': False, 'count(r)': 1, 'has(r)': True, 'count(s)': 1, 'has(s)': True, 'count(t)': 0, 'has(t)': False, 'count(u)': 0, 'has(u)': False, 'count(v)': 0, 'has(v)': False, 'count(w)': 0, 'has(w)': False, 'count(x)': 0, 'has(x)': False, 'count(y)': 0, 'has(y)': False, 'count(z)': 0, 'has(z)': False}\n"
          ],
          "name": "stdout"
        }
      ]
    },
    {
      "cell_type": "code",
      "metadata": {
        "colab": {
          "base_uri": "https://localhost:8080/"
        },
        "id": "lW2xYZBy1TFZ",
        "outputId": "cbfe1e24-a7f6-4b1a-f3d0-aa8228bbb5a4"
      },
      "source": [
        "\n",
        "labeled_names = ([(name, 'male') for name in names.words('male.txt')] +\n",
        "\t[(name, 'female') for name in names.words('female.txt')])\n",
        "\n",
        "random.shuffle(labeled_names)\n",
        "\n",
        "featuresets = [(gender_features2(n), gender) for (n, gender) in labeled_names]\n",
        "train_set, test_set = featuresets[500:], featuresets[:500]\n",
        "classifier = nltk.NaiveBayesClassifier.train(train_set)\n",
        "\n",
        "# Scoring\n",
        "print(classifier.classify(gender_features2('Neo')))\n",
        "\n",
        "print(classifier.classify(gender_features2('Trinity')))\n",
        "\n",
        "\n"
      ],
      "execution_count": 3,
      "outputs": [
        {
          "output_type": "stream",
          "text": [
            "male\n",
            "female\n",
            "0.794\n"
          ],
          "name": "stdout"
        }
      ]
    },
    {
      "cell_type": "code",
      "metadata": {
        "id": "le_sH0Y-1wHO"
      },
      "source": [
        "# Evaluations\n",
        "print(nltk.classify.accuracy(classifier, test_set))"
      ],
      "execution_count": null,
      "outputs": []
    },
    {
      "cell_type": "code",
      "metadata": {
        "colab": {
          "base_uri": "https://localhost:8080/"
        },
        "id": "Z9eKyqzC10Kj",
        "outputId": "e3e84875-18cf-418e-cbb1-95ca3f2579f0"
      },
      "source": [
        "# Examine the classifier to determine which features it found most effective;\n",
        "# likelihood ratios\n",
        "print(classifier.show_most_informative_features(5))"
      ],
      "execution_count": 4,
      "outputs": [
        {
          "output_type": "stream",
          "text": [
            "Most Informative Features\n",
            "             last_letter = 'a'            female : male   =     33.4 : 1.0\n",
            "             last_letter = 'k'              male : female =     30.0 : 1.0\n",
            "             last_letter = 'f'              male : female =     16.5 : 1.0\n",
            "             last_letter = 'p'              male : female =     11.1 : 1.0\n",
            "             last_letter = 'v'              male : female =     10.4 : 1.0\n",
            "None\n"
          ],
          "name": "stdout"
        }
      ]
    },
    {
      "cell_type": "code",
      "metadata": {
        "id": "HsyTxigs0tW8"
      },
      "source": [
        "\n",
        "# use apply_features to use memory economically, when using large corpora;\n",
        "from nltk.classify import apply_features\n",
        "train_set = apply_features(gender_features2, labeled_names[500:])\n",
        "test_set = apply_features(gender_features2, labeled_names[:500])"
      ],
      "execution_count": 7,
      "outputs": []
    }
  ]
}