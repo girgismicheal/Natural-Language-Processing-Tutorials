{
 "nbformat": 4,
 "nbformat_minor": 0,
 "metadata": {
  "colab": {
   "name": "FeatureEngineering.ipynb",
   "provenance": []
  },
  "kernelspec": {
   "name": "python3",
   "display_name": "Python 3"
  }
 },
 "cells": [
  {
   "cell_type": "code",
   "metadata": {
    "colab": {
     "base_uri": "https://localhost:8080/"
    },
    "id": "wC3oQcLxqYuN",
    "outputId": "9598d5ec-2364-4289-a88a-bff301d27bd3"
   },
   "source": [
    "from google.colab import drive\n",
    "drive.mount('/content/drive')"
   ],
   "execution_count": 1,
   "outputs": [
    {
     "output_type": "stream",
     "text": [
      "Mounted at /content/drive\n"
     ],
     "name": "stdout"
    }
   ]
  },
  {
   "cell_type": "markdown",
   "metadata": {
    "id": "9F8qWNFnsBRN"
   },
   "source": [
    "https://www.kaggle.com/rmisra/news-category-dataset"
   ]
  },
  {
   "cell_type": "code",
   "metadata": {
    "colab": {
     "base_uri": "https://localhost:8080/"
    },
    "id": "eBwI9PH5q7zM",
    "outputId": "ff700fb4-8051-456a-c842-790b3cce0f2e"
   },
   "source": [
    "## for data\n",
    "import pandas as pd\n",
    "import collections\n",
    "import json\n",
    "lst_dics = []\n",
    "with open('/content/drive/My Drive/data/News_Category_Dataset_v2.json', mode='r', errors='ignore') as json_file:\n",
    "    for dic in json_file:\n",
    "        lst_dics.append( json.loads(dic) )\n",
    "## print the first one      \n",
    "lst_dics[0]"
   ],
   "execution_count": 5,
   "outputs": [
    {
     "output_type": "execute_result",
     "data": {
      "text/plain": [
       "{'authors': 'Melissa Jeltsen',\n",
       " 'category': 'CRIME',\n",
       " 'date': '2018-05-26',\n",
       " 'headline': 'There Were 2 Mass Shootings In Texas Last Week, But Only 1 On TV',\n",
       " 'link': 'https://www.huffingtonpost.com/entry/texas-amanda-painter-mass-shooting_us_5b081ab4e4b0802d69caad89',\n",
       " 'short_description': 'She left her husband. He killed their children. Just another day in America.'}"
      ]
     },
     "metadata": {
      "tags": []
     },
     "execution_count": 5
    }
   ]
  },
  {
   "cell_type": "markdown",
   "metadata": {
    "id": "fmVAO3TlsSi4"
   },
   "source": [
    "We only use 3 out of the 30 classes"
   ]
  },
  {
   "cell_type": "code",
   "metadata": {
    "colab": {
     "base_uri": "https://localhost:8080/",
     "height": 204
    },
    "id": "0iCkQnefsGKt",
    "outputId": "a3c8b2d9-9bdb-4736-dbd7-2d898e45b4ca"
   },
   "source": [
    "## create dtf\n",
    "dtf = pd.DataFrame(lst_dics)\n",
    "## filter categories\n",
    "dtf = dtf[ dtf[\"category\"].isin(['ENTERTAINMENT','POLITICS','TECH']) ][[\"category\",\"headline\"]]\n",
    "## rename columns\n",
    "dtf = dtf.rename(columns={\"category\":\"y\", \"headline\":\"text\"})\n",
    "## print 5 random rows\n",
    "dtf.sample(5)"
   ],
   "execution_count": 6,
   "outputs": [
    {
     "output_type": "execute_result",
     "data": {
      "text/html": [
       "<div>\n",
       "<style scoped>\n",
       "    .dataframe tbody tr th:only-of-type {\n",
       "        vertical-align: middle;\n",
       "    }\n",
       "\n",
       "    .dataframe tbody tr th {\n",
       "        vertical-align: top;\n",
       "    }\n",
       "\n",
       "    .dataframe thead th {\n",
       "        text-align: right;\n",
       "    }\n",
       "</style>\n",
       "<table border=\"1\" class=\"dataframe\">\n",
       "  <thead>\n",
       "    <tr style=\"text-align: right;\">\n",
       "      <th></th>\n",
       "      <th>y</th>\n",
       "      <th>text</th>\n",
       "    </tr>\n",
       "  </thead>\n",
       "  <tbody>\n",
       "    <tr>\n",
       "      <th>123068</th>\n",
       "      <td>POLITICS</td>\n",
       "      <td>A Brilliant Plan To Give Billionaires Who Try ...</td>\n",
       "    </tr>\n",
       "    <tr>\n",
       "      <th>99782</th>\n",
       "      <td>POLITICS</td>\n",
       "      <td>Illinois Neglects Child Care Payments for Need...</td>\n",
       "    </tr>\n",
       "    <tr>\n",
       "      <th>43316</th>\n",
       "      <td>POLITICS</td>\n",
       "      <td>Hillary Clinton And Donald Trump Barnstorm Key...</td>\n",
       "    </tr>\n",
       "    <tr>\n",
       "      <th>84305</th>\n",
       "      <td>ENTERTAINMENT</td>\n",
       "      <td>Kylie Jenner Is Celebrating Her 18th Birthday ...</td>\n",
       "    </tr>\n",
       "    <tr>\n",
       "      <th>14810</th>\n",
       "      <td>POLITICS</td>\n",
       "      <td>Trump Could Seal Bipartisan Deal On Banning 'B...</td>\n",
       "    </tr>\n",
       "  </tbody>\n",
       "</table>\n",
       "</div>"
      ],
      "text/plain": [
       "                    y                                               text\n",
       "123068       POLITICS  A Brilliant Plan To Give Billionaires Who Try ...\n",
       "99782        POLITICS  Illinois Neglects Child Care Payments for Need...\n",
       "43316        POLITICS  Hillary Clinton And Donald Trump Barnstorm Key...\n",
       "84305   ENTERTAINMENT  Kylie Jenner Is Celebrating Her 18th Birthday ...\n",
       "14810        POLITICS  Trump Could Seal Bipartisan Deal On Banning 'B..."
      ]
     },
     "metadata": {
      "tags": []
     },
     "execution_count": 6
    }
   ]
  },
  {
   "cell_type": "markdown",
   "metadata": {
    "id": "UeFVmkCduXdV"
   },
   "source": [
    "Data Analysis"
   ]
  },
  {
   "cell_type": "code",
   "metadata": {
    "colab": {
     "base_uri": "https://localhost:8080/",
     "height": 294
    },
    "id": "yVUlpcPRuaFM",
    "outputId": "6c14fe2d-8f8d-43aa-946f-e95efd7f909c"
   },
   "source": [
    "## for plotting\n",
    "import matplotlib.pyplot as plt\n",
    "import seaborn as sns\n",
    "import wordcloud\n",
    "\n",
    "x = \"y\"\n",
    "fig, ax = plt.subplots()\n",
    "fig.suptitle(x, fontsize=12)\n",
    "dtf[x].reset_index().groupby(x).count().sort_values(by= \n",
    "       \"index\").plot(kind=\"barh\", legend=False, \n",
    "        ax=ax).grid(axis='x')\n",
    "plt.show()"
   ],
   "execution_count": 9,
   "outputs": [
    {
     "output_type": "display_data",
     "data": {
      "image/png": "[encoded data removed]",
      "text/plain": [
       "<Figure size 432x288 with 1 Axes>"
      ]
     },
     "metadata": {
      "tags": [],
      "needs_background": "light"
     }
    }
   ]
  },
  {
   "cell_type": "markdown",
   "metadata": {
    "id": "DsmsaTOAu7sw"
   },
   "source": [
    "Language Detection"
   ]
  },
  {
   "cell_type": "code",
   "metadata": {
    "colab": {
     "base_uri": "https://localhost:8080/",
     "height": 69
    },
    "id": "DdzdKpVBu9ey",
    "outputId": "16f27c5f-8604-4fb2-e129-09a2e07129c1"
   },
   "source": [
    "## for language detection\n",
    "#!pip install langdetect\n",
    "import langdetect \n",
    "\n",
    "txt = dtf[\"text\"].iloc[0]\n",
    "print(txt, \" --> \", langdetect.detect(txt))\n",
    "\n",
    "# Let's create a new flag, language detect the whole data:\n",
    "'''\n",
    "dtf['lang'] = dtf[\"text\"].apply(lambda x: langdetect.detect(x) if \n",
    "                                 x.strip() != \"\" else \"\")\n",
    "dtf.head()\n",
    "'''"
   ],
   "execution_count": 14,
   "outputs": [
    {
     "output_type": "stream",
     "text": [
      "Will Smith Joins Diplo And Nicky Jam For The 2018 World Cup's Official Song  -->  en\n"
     ],
     "name": "stdout"
    },
    {
     "output_type": "execute_result",
     "data": {
      "application/vnd.google.colaboratory.intrinsic+json": {
       "type": "string"
      },
      "text/plain": [
       "'\\ndtf[\\'lang\\'] = dtf[\"text\"].apply(lambda x: langdetect.detect(x) if \\n                                 x.strip() != \"\" else \"\")\\ndtf.head()\\n'"
      ]
     },
     "metadata": {
      "tags": []
     },
     "execution_count": 14
    }
   ]
  },
  {
   "cell_type": "code",
   "metadata": {
    "id": "demR5nOGw_Wy"
   },
   "source": [
    "#filter out the other language texts:\n",
    "#dtf = dtf[dtf[\"lang\"]==\"en\"]"
   ],
   "execution_count": 16,
   "outputs": []
  },
  {
   "cell_type": "markdown",
   "metadata": {
    "id": "HmUBX0pWyGLv"
   },
   "source": [
    "Data Cleansing and Preprocessing:\n",
    "get rid of punctuation before tokenization."
   ]
  },
  {
   "cell_type": "code",
   "metadata": {
    "colab": {
     "base_uri": "https://localhost:8080/"
    },
    "id": "Pq93Djp8yJcE",
    "outputId": "ec684c46-3379-4ea6-bfb4-018971b49702"
   },
   "source": [
    "## for text processing\n",
    "import re\n",
    "import nltk\n",
    "nltk.download('stopwords')\n",
    "print(\"--- original ---\")\n",
    "print(txt)\n",
    "print(\"--- cleaning ---\")\n",
    "txt = re.sub(r'[^\\w\\s]', '', str(txt).lower().strip())\n",
    "print(txt)\n",
    "print(\"--- tokenization ---\")\n",
    "txt = txt.split()\n",
    "print(txt)"
   ],
   "execution_count": 20,
   "outputs": [
    {
     "output_type": "stream",
     "text": [
      "[nltk_data] Downloading package stopwords to /root/nltk_data...\n",
      "[nltk_data]   Unzipping corpora/stopwords.zip.\n",
      "--- original ---\n",
      "['will', 'smith', 'joins', 'diplo', 'and', 'nicky', 'jam', 'for', 'the', '2018', 'world', 'cups', 'official', 'song']\n",
      "--- cleaning ---\n",
      "will smith joins diplo and nicky jam for the 2018 world cups official song\n",
      "--- tokenization ---\n",
      "['will', 'smith', 'joins', 'diplo', 'and', 'nicky', 'jam', 'for', 'the', '2018', 'world', 'cups', 'official', 'song']\n"
     ],
     "name": "stdout"
    }
   ]
  },
  {
   "cell_type": "code",
   "metadata": {
    "colab": {
     "base_uri": "https://localhost:8080/"
    },
    "id": "TH7ApTD3y2Bu",
    "outputId": "05515eb1-3ab2-4449-a277-6f7d93c89c9f"
   },
   "source": [
    "nltk.download('stopwords')\n",
    "lst_stopwords = nltk.corpus.stopwords.words(\"english\")\n",
    "#lst_stopwords"
   ],
   "execution_count": 22,
   "outputs": [
    {
     "output_type": "stream",
     "text": [
      "[nltk_data] Downloading package stopwords to /root/nltk_data...\n",
      "[nltk_data]   Package stopwords is already up-to-date!\n"
     ],
     "name": "stdout"
    }
   ]
  },
  {
   "cell_type": "markdown",
   "metadata": {
    "id": "q36p8aOp0oos"
   },
   "source": [
    "Stemming and Lemmatization"
   ]
  },
  {
   "cell_type": "code",
   "metadata": {
    "colab": {
     "base_uri": "https://localhost:8080/"
    },
    "id": "BQP3XrGY0qpb",
    "outputId": "d6564777-2dc7-40cb-ed24-fb59c7fbc2fd"
   },
   "source": [
    "nltk.download('wordnet')\n",
    "print(\"--- stemming ---\")\n",
    "ps = nltk.stem.porter.PorterStemmer()\n",
    "print([ps.stem(word) for word in txt])\n",
    "print(\"--- lemmatisation ---\")\n",
    "lem = nltk.stem.wordnet.WordNetLemmatizer()\n",
    "print([lem.lemmatize(word) for word in txt])"
   ],
   "execution_count": 24,
   "outputs": [
    {
     "output_type": "stream",
     "text": [
      "[nltk_data] Downloading package wordnet to /root/nltk_data...\n",
      "[nltk_data]   Unzipping corpora/wordnet.zip.\n",
      "--- stemming ---\n",
      "['will', 'smith', 'join', 'diplo', 'and', 'nicki', 'jam', 'for', 'the', '2018', 'world', 'cup', 'offici', 'song']\n",
      "--- lemmatisation ---\n",
      "['will', 'smith', 'join', 'diplo', 'and', 'nicky', 'jam', 'for', 'the', '2018', 'world', 'cup', 'official', 'song']\n"
     ],
     "name": "stdout"
    }
   ]
  },
  {
   "cell_type": "code",
   "metadata": {
    "id": "KwH-WH8R0_Bm"
   },
   "source": [
    "# create a re-usable function:\n",
    "'''\n",
    "Preprocess a string.\n",
    ":parameter\n",
    "    :param text: string - name of column containing text\n",
    "    :param lst_stopwords: list - list of stopwords to remove\n",
    "    :param flg_stemm: bool - whether stemming is to be applied\n",
    "    :param flg_lemm: bool - whether lemmitisation is to be applied\n",
    ":return\n",
    "    cleaned text\n",
    "'''\n",
    "def utils_preprocess_text(text, flg_stemm=False, flg_lemm=True):#, lst_stopwords=None):\n",
    "    ## clean (convert to lowercase and remove punctuations and characters and then strip)\n",
    "    text = re.sub(r'[^\\w\\s]', '', str(text).lower().strip())\n",
    "            \n",
    "    ## Tokenize (convert from string to list)\n",
    "    lst_text = text.split()\n",
    "    ## remove Stopwords\n",
    "    if lst_stopwords is not None:\n",
    "        lst_text = [word for word in lst_text if word not in \n",
    "                    lst_stopwords]\n",
    "                \n",
    "    ## Stemming (remove -ing, -ly, ...)\n",
    "    if flg_stemm == True:\n",
    "        ps = nltk.stem.porter.PorterStemmer()\n",
    "        lst_text = [ps.stem(word) for word in lst_text]\n",
    "                \n",
    "    ## Lemmatisation (convert the word into root word)\n",
    "    if flg_lemm == True:\n",
    "        lem = nltk.stem.wordnet.WordNetLemmatizer()\n",
    "        lst_text = [lem.lemmatize(word) for word in lst_text]\n",
    "            \n",
    "    ## back to string from list\n",
    "    text = \" \".join(lst_text)\n",
    "    return text"
   ],
   "execution_count": 36,
   "outputs": []
  },
  {
   "cell_type": "markdown",
   "metadata": {
    "id": "HhITo2Tg2Ei4"
   },
   "source": [
    "One function call, no need to do both Stemming and Lemmatization"
   ]
  },
  {
   "cell_type": "code",
   "metadata": {
    "colab": {
     "base_uri": "https://localhost:8080/",
     "height": 204
    },
    "id": "h1RXrFVo2OSu",
    "outputId": "ef290199-48d3-4cf0-ff9f-420f23cec8ac"
   },
   "source": [
    "dtf[\"text_clean\"] = dtf[\"text\"].apply(lambda x: utils_preprocess_text(x, flg_stemm=False, flg_lemm=True))#, lst_stopwords))\n",
    "dtf.head()"
   ],
   "execution_count": 40,
   "outputs": [
    {
     "output_type": "execute_result",
     "data": {
      "text/html": [
       "<div>\n",
       "<style scoped>\n",
       "    .dataframe tbody tr th:only-of-type {\n",
       "        vertical-align: middle;\n",
       "    }\n",
       "\n",
       "    .dataframe tbody tr th {\n",
       "        vertical-align: top;\n",
       "    }\n",
       "\n",
       "    .dataframe thead th {\n",
       "        text-align: right;\n",
       "    }\n",
       "</style>\n",
       "<table border=\"1\" class=\"dataframe\">\n",
       "  <thead>\n",
       "    <tr style=\"text-align: right;\">\n",
       "      <th></th>\n",
       "      <th>y</th>\n",
       "      <th>text</th>\n",
       "      <th>text_clean</th>\n",
       "    </tr>\n",
       "  </thead>\n",
       "  <tbody>\n",
       "    <tr>\n",
       "      <th>1</th>\n",
       "      <td>ENTERTAINMENT</td>\n",
       "      <td>Will Smith Joins Diplo And Nicky Jam For The 2...</td>\n",
       "      <td>smith join diplo nicky jam 2018 world cup offi...</td>\n",
       "    </tr>\n",
       "    <tr>\n",
       "      <th>2</th>\n",
       "      <td>ENTERTAINMENT</td>\n",
       "      <td>Hugh Grant Marries For The First Time At Age 57</td>\n",
       "      <td>hugh grant marries first time age 57</td>\n",
       "    </tr>\n",
       "    <tr>\n",
       "      <th>3</th>\n",
       "      <td>ENTERTAINMENT</td>\n",
       "      <td>Jim Carrey Blasts 'Castrato' Adam Schiff And D...</td>\n",
       "      <td>jim carrey blast castrato adam schiff democrat...</td>\n",
       "    </tr>\n",
       "    <tr>\n",
       "      <th>4</th>\n",
       "      <td>ENTERTAINMENT</td>\n",
       "      <td>Julianna Margulies Uses Donald Trump Poop Bags...</td>\n",
       "      <td>julianna margulies us donald trump poop bag pi...</td>\n",
       "    </tr>\n",
       "    <tr>\n",
       "      <th>5</th>\n",
       "      <td>ENTERTAINMENT</td>\n",
       "      <td>Morgan Freeman 'Devastated' That Sexual Harass...</td>\n",
       "      <td>morgan freeman devastated sexual harassment cl...</td>\n",
       "    </tr>\n",
       "  </tbody>\n",
       "</table>\n",
       "</div>"
      ],
      "text/plain": [
       "               y  ...                                         text_clean\n",
       "1  ENTERTAINMENT  ...  smith join diplo nicky jam 2018 world cup offi...\n",
       "2  ENTERTAINMENT  ...               hugh grant marries first time age 57\n",
       "3  ENTERTAINMENT  ...  jim carrey blast castrato adam schiff democrat...\n",
       "4  ENTERTAINMENT  ...  julianna margulies us donald trump poop bag pi...\n",
       "5  ENTERTAINMENT  ...  morgan freeman devastated sexual harassment cl...\n",
       "\n",
       "[5 rows x 3 columns]"
      ]
     },
     "metadata": {
      "tags": []
     },
     "execution_count": 40
    }
   ]
  },
  {
   "cell_type": "code",
   "metadata": {
    "colab": {
     "base_uri": "https://localhost:8080/"
    },
    "id": "UbBMJJEl5uO4",
    "outputId": "459e966f-88a6-4759-b9a1-08ee231a536f"
   },
   "source": [
    "print(dtf[\"text\"].iloc[0], \" --> \", dtf[\"text_clean\"].iloc[0])"
   ],
   "execution_count": 41,
   "outputs": [
    {
     "output_type": "stream",
     "text": [
      "Will Smith Joins Diplo And Nicky Jam For The 2018 World Cup's Official Song  -->  smith join diplo nicky jam 2018 world cup official song\n"
     ],
     "name": "stdout"
    }
   ]
  },
  {
   "cell_type": "markdown",
   "metadata": {
    "id": "7tE8mQ0T6RZ7"
   },
   "source": [
    "Length Analysis"
   ]
  },
  {
   "cell_type": "code",
   "metadata": {
    "colab": {
     "base_uri": "https://localhost:8080/",
     "height": 598
    },
    "id": "V5aVFRlc6S7j",
    "outputId": "c3ca3d91-5d61-4a4b-99c1-6a4c70bf1e36"
   },
   "source": [
    "dtf['word_count'] = dtf[\"text\"].apply(lambda x: len(str(x).split(\" \")))\n",
    "dtf['char_count'] = dtf[\"text\"].apply(lambda x: sum(len(word) for word in str(x).split(\" \")))\n",
    "dtf['sentence_count'] = dtf[\"text\"].apply(lambda x: len(str(x).split(\".\")))\n",
    "dtf['avg_word_length'] = dtf['char_count'] / dtf['word_count']\n",
    "dtf['avg_sentence_lenght'] = dtf['word_count'] / dtf['sentence_count']\n",
    "dtf.head()"
   ],
   "execution_count": 42,
   "outputs": [
    {
     "output_type": "execute_result",
     "data": {
      "text/html": [
       "<div>\n",
       "<style scoped>\n",
       "    .dataframe tbody tr th:only-of-type {\n",
       "        vertical-align: middle;\n",
       "    }\n",
       "\n",
       "    .dataframe tbody tr th {\n",
       "        vertical-align: top;\n",
       "    }\n",
       "\n",
       "    .dataframe thead th {\n",
       "        text-align: right;\n",
       "    }\n",
       "</style>\n",
       "<table border=\"1\" class=\"dataframe\">\n",
       "  <thead>\n",
       "    <tr style=\"text-align: right;\">\n",
       "      <th></th>\n",
       "      <th>y</th>\n",
       "      <th>text</th>\n",
       "      <th>text_clean</th>\n",
       "      <th>word_count</th>\n",
       "      <th>char_count</th>\n",
       "      <th>sentence_count</th>\n",
       "      <th>avg_word_length</th>\n",
       "      <th>avg_sentence_lenght</th>\n",
       "    </tr>\n",
       "  </thead>\n",
       "  <tbody>\n",
       "    <tr>\n",
       "      <th>1</th>\n",
       "      <td>ENTERTAINMENT</td>\n",
       "      <td>Will Smith Joins Diplo And Nicky Jam For The 2...</td>\n",
       "      <td>smith join diplo nicky jam 2018 world cup offi...</td>\n",
       "      <td>14</td>\n",
       "      <td>62</td>\n",
       "      <td>1</td>\n",
       "      <td>4.428571</td>\n",
       "      <td>14.0</td>\n",
       "    </tr>\n",
       "    <tr>\n",
       "      <th>2</th>\n",
       "      <td>ENTERTAINMENT</td>\n",
       "      <td>Hugh Grant Marries For The First Time At Age 57</td>\n",
       "      <td>hugh grant marries first time age 57</td>\n",
       "      <td>10</td>\n",
       "      <td>38</td>\n",
       "      <td>1</td>\n",
       "      <td>3.800000</td>\n",
       "      <td>10.0</td>\n",
       "    </tr>\n",
       "    <tr>\n",
       "      <th>3</th>\n",
       "      <td>ENTERTAINMENT</td>\n",
       "      <td>Jim Carrey Blasts 'Castrato' Adam Schiff And D...</td>\n",
       "      <td>jim carrey blast castrato adam schiff democrat...</td>\n",
       "      <td>11</td>\n",
       "      <td>59</td>\n",
       "      <td>1</td>\n",
       "      <td>5.363636</td>\n",
       "      <td>11.0</td>\n",
       "    </tr>\n",
       "    <tr>\n",
       "      <th>4</th>\n",
       "      <td>ENTERTAINMENT</td>\n",
       "      <td>Julianna Margulies Uses Donald Trump Poop Bags...</td>\n",
       "      <td>julianna margulies us donald trump poop bag pi...</td>\n",
       "      <td>13</td>\n",
       "      <td>59</td>\n",
       "      <td>1</td>\n",
       "      <td>4.538462</td>\n",
       "      <td>13.0</td>\n",
       "    </tr>\n",
       "    <tr>\n",
       "      <th>5</th>\n",
       "      <td>ENTERTAINMENT</td>\n",
       "      <td>Morgan Freeman 'Devastated' That Sexual Harass...</td>\n",
       "      <td>morgan freeman devastated sexual harassment cl...</td>\n",
       "      <td>10</td>\n",
       "      <td>71</td>\n",
       "      <td>1</td>\n",
       "      <td>7.100000</td>\n",
       "      <td>10.0</td>\n",
       "    </tr>\n",
       "  </tbody>\n",
       "</table>\n",
       "</div>"
      ],
      "text/plain": [
       "               y  ... avg_sentence_lenght\n",
       "1  ENTERTAINMENT  ...                14.0\n",
       "2  ENTERTAINMENT  ...                10.0\n",
       "3  ENTERTAINMENT  ...                11.0\n",
       "4  ENTERTAINMENT  ...                13.0\n",
       "5  ENTERTAINMENT  ...                10.0\n",
       "\n",
       "[5 rows x 8 columns]"
      ]
     },
     "metadata": {
      "tags": []
     },
     "execution_count": 42
    }
   ]
  },
  {
   "cell_type": "markdown",
   "metadata": {
    "id": "nh1_zSR46nvQ"
   },
   "source": [
    "Graph length distributions:"
   ]
  },
  {
   "cell_type": "code",
   "metadata": {
    "colab": {
     "base_uri": "https://localhost:8080/",
     "height": 532
    },
    "id": "L0u9A9yy6rpb",
    "outputId": "e07f37ff-af16-4a46-d854-3e1feae6b927"
   },
   "source": [
    "x, y = \"char_count\", \"y\"\n",
    "fig, ax = plt.subplots(nrows=1, ncols=2)\n",
    "fig.suptitle(x, fontsize=12)\n",
    "for i in dtf[y].unique():\n",
    "    sns.distplot(dtf[dtf[y]==i][x], hist=True, kde=False, \n",
    "                 bins=10, hist_kws={\"alpha\":0.8}, \n",
    "                 axlabel=\"histogram\", ax=ax[0])\n",
    "    sns.distplot(dtf[dtf[y]==i][x], hist=False, kde=True, \n",
    "                 kde_kws={\"shade\":True}, axlabel=\"density\",   \n",
    "                 ax=ax[1])\n",
    "ax[0].grid(True)\n",
    "ax[0].legend(dtf[y].unique())\n",
    "ax[1].grid(True)\n",
    "plt.show()"
   ],
   "execution_count": 43,
   "outputs": [
    {
     "output_type": "stream",
     "text": [
      "/usr/local/lib/python3.6/dist-packages/seaborn/distributions.py:2557: FutureWarning: `distplot` is a deprecated function and will be removed in a future version. Please adapt your code to use either `displot` (a figure-level function with similar flexibility) or `histplot` (an axes-level function for histograms).\n",
      "  warnings.warn(msg, FutureWarning)\n",
      "/usr/local/lib/python3.6/dist-packages/seaborn/distributions.py:2557: FutureWarning: `distplot` is a deprecated function and will be removed in a future version. Please adapt your code to use either `displot` (a figure-level function with similar flexibility) or `kdeplot` (an axes-level function for kernel density plots).\n",
      "  warnings.warn(msg, FutureWarning)\n",
      "/usr/local/lib/python3.6/dist-packages/seaborn/distributions.py:2557: FutureWarning: `distplot` is a deprecated function and will be removed in a future version. Please adapt your code to use either `displot` (a figure-level function with similar flexibility) or `histplot` (an axes-level function for histograms).\n",
      "  warnings.warn(msg, FutureWarning)\n",
      "/usr/local/lib/python3.6/dist-packages/seaborn/distributions.py:2557: FutureWarning: `distplot` is a deprecated function and will be removed in a future version. Please adapt your code to use either `displot` (a figure-level function with similar flexibility) or `kdeplot` (an axes-level function for kernel density plots).\n",
      "  warnings.warn(msg, FutureWarning)\n",
      "/usr/local/lib/python3.6/dist-packages/seaborn/distributions.py:2557: FutureWarning: `distplot` is a deprecated function and will be removed in a future version. Please adapt your code to use either `displot` (a figure-level function with similar flexibility) or `histplot` (an axes-level function for histograms).\n",
      "  warnings.warn(msg, FutureWarning)\n",
      "/usr/local/lib/python3.6/dist-packages/seaborn/distributions.py:2557: FutureWarning: `distplot` is a deprecated function and will be removed in a future version. Please adapt your code to use either `displot` (a figure-level function with similar flexibility) or `kdeplot` (an axes-level function for kernel density plots).\n",
      "  warnings.warn(msg, FutureWarning)\n"
     ],
     "name": "stderr"
    },
    {
     "output_type": "display_data",
     "data": {
      "image/png": "[encoded data removed]",
      "text/plain": [
       "<Figure size 432x288 with 2 Axes>"
      ]
     },
     "metadata": {
      "tags": [],
      "needs_background": "light"
     }
    }
   ]
  },
  {
   "cell_type": "markdown",
   "metadata": {
    "id": "TBNF1acG6_Ta"
   },
   "source": [
    "Sentiment Analysis"
   ]
  },
  {
   "cell_type": "code",
   "metadata": {
    "colab": {
     "base_uri": "https://localhost:8080/",
     "height": 598
    },
    "id": "Tli-akVI7BDH",
    "outputId": "1e0c45ca-a080-4aa9-ff0f-abd0d1494e6d"
   },
   "source": [
    "from textblob import TextBlob\n",
    "dtf[\"sentiment\"] = dtf[\"text_clean\"].apply(lambda x: \n",
    "                   TextBlob(x).sentiment.polarity)\n",
    "dtf.head()"
   ],
   "execution_count": 46,
   "outputs": [
    {
     "output_type": "execute_result",
     "data": {
      "text/html": [
       "<div>\n",
       "<style scoped>\n",
       "    .dataframe tbody tr th:only-of-type {\n",
       "        vertical-align: middle;\n",
       "    }\n",
       "\n",
       "    .dataframe tbody tr th {\n",
       "        vertical-align: top;\n",
       "    }\n",
       "\n",
       "    .dataframe thead th {\n",
       "        text-align: right;\n",
       "    }\n",
       "</style>\n",
       "<table border=\"1\" class=\"dataframe\">\n",
       "  <thead>\n",
       "    <tr style=\"text-align: right;\">\n",
       "      <th></th>\n",
       "      <th>y</th>\n",
       "      <th>text</th>\n",
       "      <th>text_clean</th>\n",
       "      <th>word_count</th>\n",
       "      <th>char_count</th>\n",
       "      <th>sentence_count</th>\n",
       "      <th>avg_word_length</th>\n",
       "      <th>avg_sentence_lenght</th>\n",
       "      <th>sentiment</th>\n",
       "    </tr>\n",
       "  </thead>\n",
       "  <tbody>\n",
       "    <tr>\n",
       "      <th>1</th>\n",
       "      <td>ENTERTAINMENT</td>\n",
       "      <td>Will Smith Joins Diplo And Nicky Jam For The 2...</td>\n",
       "      <td>smith join diplo nicky jam 2018 world cup offi...</td>\n",
       "      <td>14</td>\n",
       "      <td>62</td>\n",
       "      <td>1</td>\n",
       "      <td>4.428571</td>\n",
       "      <td>14.0</td>\n",
       "      <td>0.000000</td>\n",
       "    </tr>\n",
       "    <tr>\n",
       "      <th>2</th>\n",
       "      <td>ENTERTAINMENT</td>\n",
       "      <td>Hugh Grant Marries For The First Time At Age 57</td>\n",
       "      <td>hugh grant marries first time age 57</td>\n",
       "      <td>10</td>\n",
       "      <td>38</td>\n",
       "      <td>1</td>\n",
       "      <td>3.800000</td>\n",
       "      <td>10.0</td>\n",
       "      <td>0.250000</td>\n",
       "    </tr>\n",
       "    <tr>\n",
       "      <th>3</th>\n",
       "      <td>ENTERTAINMENT</td>\n",
       "      <td>Jim Carrey Blasts 'Castrato' Adam Schiff And D...</td>\n",
       "      <td>jim carrey blast castrato adam schiff democrat...</td>\n",
       "      <td>11</td>\n",
       "      <td>59</td>\n",
       "      <td>1</td>\n",
       "      <td>5.363636</td>\n",
       "      <td>11.0</td>\n",
       "      <td>0.136364</td>\n",
       "    </tr>\n",
       "    <tr>\n",
       "      <th>4</th>\n",
       "      <td>ENTERTAINMENT</td>\n",
       "      <td>Julianna Margulies Uses Donald Trump Poop Bags...</td>\n",
       "      <td>julianna margulies us donald trump poop bag pi...</td>\n",
       "      <td>13</td>\n",
       "      <td>59</td>\n",
       "      <td>1</td>\n",
       "      <td>4.538462</td>\n",
       "      <td>13.0</td>\n",
       "      <td>0.000000</td>\n",
       "    </tr>\n",
       "    <tr>\n",
       "      <th>5</th>\n",
       "      <td>ENTERTAINMENT</td>\n",
       "      <td>Morgan Freeman 'Devastated' That Sexual Harass...</td>\n",
       "      <td>morgan freeman devastated sexual harassment cl...</td>\n",
       "      <td>10</td>\n",
       "      <td>71</td>\n",
       "      <td>1</td>\n",
       "      <td>7.100000</td>\n",
       "      <td>10.0</td>\n",
       "      <td>0.500000</td>\n",
       "    </tr>\n",
       "  </tbody>\n",
       "</table>\n",
       "</div>"
      ],
      "text/plain": [
       "               y  ... sentiment\n",
       "1  ENTERTAINMENT  ...  0.000000\n",
       "2  ENTERTAINMENT  ...  0.250000\n",
       "3  ENTERTAINMENT  ...  0.136364\n",
       "4  ENTERTAINMENT  ...  0.000000\n",
       "5  ENTERTAINMENT  ...  0.500000\n",
       "\n",
       "[5 rows x 9 columns]"
      ]
     },
     "metadata": {
      "tags": []
     },
     "execution_count": 46
    }
   ]
  },
  {
   "cell_type": "markdown",
   "metadata": {
    "id": "8-W-X3w39cFj"
   },
   "source": [
    "Word Frequency"
   ]
  },
  {
   "cell_type": "code",
   "metadata": {
    "colab": {
     "base_uri": "https://localhost:8080/",
     "height": 328
    },
    "id": "uZi8-tD-9eEG",
    "outputId": "df62c98a-d876-408b-ba5a-ce28093377de"
   },
   "source": [
    "top=10\n",
    "nltk.download('punkt')\n",
    "## for vectorizer\n",
    "from sklearn import feature_extraction, manifold\n",
    "\n",
    "y = \"POLITICS\"\n",
    "corpus = dtf[dtf[\"y\"]==y][\"text_clean\"]\n",
    "lst_tokens = nltk.tokenize.word_tokenize(corpus.str.cat(sep=\" \"))\n",
    "fig, ax = plt.subplots(nrows=1, ncols=2)\n",
    "fig.suptitle(\"Most frequent words\", fontsize=15)\n",
    "    \n",
    "## unigrams\n",
    "dic_words_freq = nltk.FreqDist(lst_tokens)\n",
    "dtf_uni = pd.DataFrame(dic_words_freq.most_common(), \n",
    "                       columns=[\"Word\",\"Freq\"])\n",
    "dtf_uni.set_index(\"Word\").iloc[:top,:].sort_values(by=\"Freq\").plot(\n",
    "                  kind=\"barh\", title=\"Unigrams\", ax=ax[0], \n",
    "                  legend=False).grid(axis='x')\n",
    "ax[0].set(ylabel=None)\n",
    "    \n",
    "## bigrams\n",
    "dic_words_freq = nltk.FreqDist(nltk.ngrams(lst_tokens, 2))\n",
    "dtf_bi = pd.DataFrame(dic_words_freq.most_common(), \n",
    "                      columns=[\"Word\",\"Freq\"])\n",
    "dtf_bi[\"Word\"] = dtf_bi[\"Word\"].apply(lambda x: \" \".join(\n",
    "                   string for string in x) )\n",
    "dtf_bi.set_index(\"Word\").iloc[:top,:].sort_values(by=\"Freq\").plot(\n",
    "                  kind=\"barh\", title=\"Bigrams\", ax=ax[1],\n",
    "                  legend=False).grid(axis='x')\n",
    "ax[1].set(ylabel=None)\n",
    "plt.show()"
   ],
   "execution_count": 52,
   "outputs": [
    {
     "output_type": "stream",
     "text": [
      "[nltk_data] Downloading package punkt to /root/nltk_data...\n",
      "[nltk_data]   Package punkt is already up-to-date!\n"
     ],
     "name": "stdout"
    },
    {
     "output_type": "display_data",
     "data": {
      "image/png": "[encoded data removed]",
      "text/plain": [
       "<Figure size 432x288 with 2 Axes>"
      ]
     },
     "metadata": {
      "tags": [],
      "needs_background": "light"
     }
    }
   ]
  },
  {
   "cell_type": "markdown",
   "metadata": {
    "id": "I9k_NOmg_rxN"
   },
   "source": [
    "Feature Extraction"
   ]
  },
  {
   "cell_type": "code",
   "metadata": {
    "colab": {
     "base_uri": "https://localhost:8080/",
     "height": 615
    },
    "id": "EHhwjqZ__tkZ",
    "outputId": "b1c38c7a-4b6b-41cc-ca09-c39994e80985"
   },
   "source": [
    "## for vectorizer\n",
    "from sklearn import feature_extraction, manifold\n",
    "lst_words = [\"box office\", \"republican\", \"apple\"]\n",
    "## count\n",
    "lst_grams = [len(word.split(\" \")) for word in lst_words]\n",
    "vectorizer = feature_extraction.text.CountVectorizer(\n",
    "                 vocabulary=lst_words, \n",
    "                 ngram_range=(min(lst_grams),max(lst_grams)))\n",
    "dtf_X = pd.DataFrame(vectorizer.fit_transform(dtf[\"text_clean\"]).todense(), columns=lst_words)\n",
    "## add the new features as columns\n",
    "dtf = pd.concat([dtf, dtf_X.set_index(dtf.index)], axis=1)\n",
    "dtf.head()"
   ],
   "execution_count": 53,
   "outputs": [
    {
     "output_type": "execute_result",
     "data": {
      "text/html": [
       "<div>\n",
       "<style scoped>\n",
       "    .dataframe tbody tr th:only-of-type {\n",
       "        vertical-align: middle;\n",
       "    }\n",
       "\n",
       "    .dataframe tbody tr th {\n",
       "        vertical-align: top;\n",
       "    }\n",
       "\n",
       "    .dataframe thead th {\n",
       "        text-align: right;\n",
       "    }\n",
       "</style>\n",
       "<table border=\"1\" class=\"dataframe\">\n",
       "  <thead>\n",
       "    <tr style=\"text-align: right;\">\n",
       "      <th></th>\n",
       "      <th>y</th>\n",
       "      <th>text</th>\n",
       "      <th>text_clean</th>\n",
       "      <th>word_count</th>\n",
       "      <th>char_count</th>\n",
       "      <th>sentence_count</th>\n",
       "      <th>avg_word_length</th>\n",
       "      <th>avg_sentence_lenght</th>\n",
       "      <th>sentiment</th>\n",
       "      <th>box office</th>\n",
       "      <th>republican</th>\n",
       "      <th>apple</th>\n",
       "    </tr>\n",
       "  </thead>\n",
       "  <tbody>\n",
       "    <tr>\n",
       "      <th>1</th>\n",
       "      <td>ENTERTAINMENT</td>\n",
       "      <td>Will Smith Joins Diplo And Nicky Jam For The 2...</td>\n",
       "      <td>smith join diplo nicky jam 2018 world cup offi...</td>\n",
       "      <td>14</td>\n",
       "      <td>62</td>\n",
       "      <td>1</td>\n",
       "      <td>4.428571</td>\n",
       "      <td>14.0</td>\n",
       "      <td>0.000000</td>\n",
       "      <td>0</td>\n",
       "      <td>0</td>\n",
       "      <td>0</td>\n",
       "    </tr>\n",
       "    <tr>\n",
       "      <th>2</th>\n",
       "      <td>ENTERTAINMENT</td>\n",
       "      <td>Hugh Grant Marries For The First Time At Age 57</td>\n",
       "      <td>hugh grant marries first time age 57</td>\n",
       "      <td>10</td>\n",
       "      <td>38</td>\n",
       "      <td>1</td>\n",
       "      <td>3.800000</td>\n",
       "      <td>10.0</td>\n",
       "      <td>0.250000</td>\n",
       "      <td>0</td>\n",
       "      <td>0</td>\n",
       "      <td>0</td>\n",
       "    </tr>\n",
       "    <tr>\n",
       "      <th>3</th>\n",
       "      <td>ENTERTAINMENT</td>\n",
       "      <td>Jim Carrey Blasts 'Castrato' Adam Schiff And D...</td>\n",
       "      <td>jim carrey blast castrato adam schiff democrat...</td>\n",
       "      <td>11</td>\n",
       "      <td>59</td>\n",
       "      <td>1</td>\n",
       "      <td>5.363636</td>\n",
       "      <td>11.0</td>\n",
       "      <td>0.136364</td>\n",
       "      <td>0</td>\n",
       "      <td>0</td>\n",
       "      <td>0</td>\n",
       "    </tr>\n",
       "    <tr>\n",
       "      <th>4</th>\n",
       "      <td>ENTERTAINMENT</td>\n",
       "      <td>Julianna Margulies Uses Donald Trump Poop Bags...</td>\n",
       "      <td>julianna margulies us donald trump poop bag pi...</td>\n",
       "      <td>13</td>\n",
       "      <td>59</td>\n",
       "      <td>1</td>\n",
       "      <td>4.538462</td>\n",
       "      <td>13.0</td>\n",
       "      <td>0.000000</td>\n",
       "      <td>0</td>\n",
       "      <td>0</td>\n",
       "      <td>0</td>\n",
       "    </tr>\n",
       "    <tr>\n",
       "      <th>5</th>\n",
       "      <td>ENTERTAINMENT</td>\n",
       "      <td>Morgan Freeman 'Devastated' That Sexual Harass...</td>\n",
       "      <td>morgan freeman devastated sexual harassment cl...</td>\n",
       "      <td>10</td>\n",
       "      <td>71</td>\n",
       "      <td>1</td>\n",
       "      <td>7.100000</td>\n",
       "      <td>10.0</td>\n",
       "      <td>0.500000</td>\n",
       "      <td>0</td>\n",
       "      <td>0</td>\n",
       "      <td>0</td>\n",
       "    </tr>\n",
       "  </tbody>\n",
       "</table>\n",
       "</div>"
      ],
      "text/plain": [
       "               y  ... apple\n",
       "1  ENTERTAINMENT  ...     0\n",
       "2  ENTERTAINMENT  ...     0\n",
       "3  ENTERTAINMENT  ...     0\n",
       "4  ENTERTAINMENT  ...     0\n",
       "5  ENTERTAINMENT  ...     0\n",
       "\n",
       "[5 rows x 12 columns]"
      ]
     },
     "metadata": {
      "tags": []
     },
     "execution_count": 53
    }
   ]
  },
  {
   "cell_type": "markdown",
   "metadata": {
    "id": "oAcld5yC_11l"
   },
   "source": [
    "Visualization:"
   ]
  },
  {
   "cell_type": "code",
   "metadata": {
    "colab": {
     "base_uri": "https://localhost:8080/",
     "height": 198
    },
    "id": "2JIe4zqb_3ip",
    "outputId": "74813b85-7eb5-458b-edb6-b353a6e9781b"
   },
   "source": [
    "wc = wordcloud.WordCloud(background_color='black', max_words=100, \n",
    "                         max_font_size=35)\n",
    "wc = wc.generate(str(corpus))\n",
    "fig = plt.figure(num=1)\n",
    "plt.axis('off')\n",
    "plt.imshow(wc, cmap=None)\n",
    "plt.show()"
   ],
   "execution_count": 54,
   "outputs": [
    {
     "output_type": "display_data",
     "data": {
      "image/png": "[encoded data removed]",
      "text/plain": [
       "<Figure size 432x288 with 1 Axes>"
      ]
     },
     "metadata": {
      "tags": [],
      "needs_background": "light"
     }
    }
   ]
  },
  {
   "cell_type": "markdown",
   "metadata": {
    "id": "sYmGBuD5ACCu"
   },
   "source": [
    "Word Embedding"
   ]
  },
  {
   "cell_type": "code",
   "metadata": {
    "colab": {
     "base_uri": "https://localhost:8080/"
    },
    "id": "LEfgaPytAEQP",
    "outputId": "b7cee9d2-7a1f-4197-e3f5-b0d28c9b0cae"
   },
   "source": [
    "## for vectorizer\n",
    "from sklearn import feature_extraction, manifold\n",
    "## for word embedding\n",
    "import gensim.downloader as gensim_api\n",
    "## for topic modeling\n",
    "import gensim\n",
    "nlp = gensim_api.load(\"glove-wiki-gigaword-300\")"
   ],
   "execution_count": 55,
   "outputs": [
    {
     "output_type": "stream",
     "text": [
      "[=========================================---------] 83.6% 314.3/376.1MB downloaded\n"
     ],
     "name": "stdout"
    }
   ]
  },
  {
   "cell_type": "code",
   "metadata": {
    "colab": {
     "base_uri": "https://localhost:8080/"
    },
    "id": "hsqRw6xeBS6K",
    "outputId": "93047cc5-22b2-4764-80bc-db9ad89d637c"
   },
   "source": [
    "word = \"love\"\n",
    "nlp[word]"
   ],
   "execution_count": 56,
   "outputs": [
    {
     "output_type": "execute_result",
     "data": {
      "text/plain": [
       "array([-4.5205e-01, -3.3122e-01, -6.3607e-02,  2.8325e-02, -2.1372e-01,\n",
       "        1.6839e-01, -1.7186e-02,  4.7309e-02, -5.2355e-02, -9.8706e-01,\n",
       "        5.3762e-01, -2.6893e-01, -5.4294e-01,  7.2487e-02,  6.6193e-02,\n",
       "       -2.1814e-01, -1.2113e-01, -2.8832e-01,  4.8161e-01,  6.9185e-01,\n",
       "       -2.0022e-01,  1.0082e+00, -1.1865e-01,  5.8710e-01,  1.8482e-01,\n",
       "        4.5799e-02, -1.7836e-02, -3.3952e-01,  2.9314e-01, -1.9951e-01,\n",
       "       -1.8930e-01,  4.3267e-01, -6.3181e-01, -2.9510e-01, -1.0547e+00,\n",
       "        1.8231e-01, -4.5040e-01, -2.7800e-01, -1.4021e-01,  3.6785e-02,\n",
       "        2.6487e-01, -6.6712e-01, -1.5204e-01, -3.5001e-01,  4.0864e-01,\n",
       "       -7.3615e-02,  6.7630e-01,  1.8274e-01, -4.1660e-02,  1.5014e-02,\n",
       "        2.5216e-01, -1.0109e-01,  3.1915e-02, -1.1298e-01, -4.0147e-01,\n",
       "        1.7274e-01,  1.8497e-03,  2.4456e-01,  6.8777e-01, -2.7019e-01,\n",
       "        8.0728e-01, -5.8296e-02,  4.0550e-01,  3.9893e-01, -9.1688e-02,\n",
       "       -5.2080e-01,  2.4570e-01,  6.3001e-02,  2.1421e-01,  3.3197e-01,\n",
       "       -3.4299e-01, -4.8735e-01,  2.2264e-02,  2.7862e-01,  2.3881e-01,\n",
       "        9.7794e-02,  3.8023e-01, -3.7744e-02, -4.1966e-01, -1.9145e-01,\n",
       "       -9.5830e-02,  2.6871e-01,  5.2876e-01, -2.6870e-01, -3.4450e-01,\n",
       "        2.5413e-01,  1.3606e-01,  3.6528e-01,  8.1960e-02, -5.2224e-01,\n",
       "        3.4159e-02,  1.7019e-01, -1.0520e-01, -8.0873e-01, -1.8095e-01,\n",
       "       -6.0823e-02,  2.6014e-01, -7.8717e-02, -1.5161e-01, -6.8438e-01,\n",
       "        2.1809e-01,  4.7330e-02, -1.2147e-01, -3.3892e-01, -1.8629e-02,\n",
       "        2.4546e-01,  2.7374e-01, -2.7045e-01, -8.7233e-02, -4.7871e-01,\n",
       "        1.9630e-01,  2.3124e-02,  1.9453e-01, -4.6860e-01,  4.4499e-01,\n",
       "        1.8360e-01, -1.6480e-01,  3.8598e-01,  3.6070e-01, -3.1108e-01,\n",
       "       -3.4627e-01,  1.9004e-01, -9.8683e-02,  3.3821e-01, -1.3978e-01,\n",
       "       -7.2723e-01, -1.0660e-01,  1.9208e-03, -3.3093e-01,  3.5117e-01,\n",
       "        1.5491e-01,  1.7150e-01,  2.8933e-01, -4.9213e-02, -5.0567e-01,\n",
       "       -2.3513e-01, -2.8005e-01, -2.8487e-01, -2.4393e-01, -4.0838e-02,\n",
       "       -2.7223e-01,  9.4564e-02,  1.7332e-01,  1.8691e-01, -1.3585e-01,\n",
       "       -4.6439e-01, -4.5677e-01,  9.7890e-02,  3.9113e-02,  1.7901e-01,\n",
       "       -4.5629e-01,  4.7520e-01, -2.0388e-01,  2.4123e-01,  6.7551e-01,\n",
       "        6.2105e-02, -1.8940e-01,  1.5054e-01,  1.5875e-01, -2.3365e-01,\n",
       "        3.7429e-01, -2.3463e-01,  4.0692e-01,  1.4035e-01, -4.2971e-01,\n",
       "        5.6713e-01, -2.6706e-01, -6.8028e-02, -5.1264e-01, -3.0945e-01,\n",
       "       -3.9065e-01, -2.7004e-01, -1.1802e+00,  6.6480e-01, -2.4366e-01,\n",
       "        3.9183e-01, -2.8970e-01, -1.8839e-01, -4.9282e-01,  1.4538e-01,\n",
       "        2.4467e-01, -4.4340e-03,  2.3265e-01,  7.4544e-02, -3.0006e-01,\n",
       "       -3.0272e-01, -1.2394e-01,  3.3473e-01,  3.3880e-01,  9.7445e-02,\n",
       "       -3.3773e-01, -5.4316e-01, -4.7514e-01, -1.5696e-01, -9.3516e-01,\n",
       "       -8.7034e-02, -2.6743e-01,  6.4641e-04,  3.1940e-01, -6.2562e-03,\n",
       "        1.5854e+00,  1.2484e-01,  4.8481e-01,  7.5394e-02,  1.8963e-01,\n",
       "       -1.0226e-01,  4.7413e-01,  7.0402e-01, -6.4418e-02, -1.0181e-02,\n",
       "       -6.8619e-01,  1.5335e-02,  4.7851e-02,  3.7650e-01,  1.0487e-01,\n",
       "        2.2974e-01,  4.5352e-01,  3.1482e-01,  5.8880e-02,  6.7096e-02,\n",
       "        1.5679e-01,  1.3099e-01,  3.4581e-02, -7.3896e-02, -3.6433e-01,\n",
       "       -1.8847e-01,  4.1556e-02, -2.0124e-01, -7.3918e-02,  3.8752e-01,\n",
       "        1.6759e-01, -4.0627e-01, -1.3220e-02, -7.1793e-01, -2.2904e-01,\n",
       "        2.0474e-01, -1.3648e-01,  3.7779e-01, -4.0003e-01, -5.0106e-02,\n",
       "       -3.7799e-01,  7.2109e-02,  2.3057e-02,  2.3879e-01, -2.2423e-01,\n",
       "       -8.4834e-02, -7.0726e-01, -1.6182e-01,  2.6373e-01,  1.2226e-01,\n",
       "        8.0282e-02,  7.5963e-02, -3.4695e-01,  3.7703e-01,  3.6612e-01,\n",
       "       -9.8416e-02,  4.7400e-01, -2.5085e-01,  1.8641e-01, -2.5993e-01,\n",
       "        3.9035e-02, -6.1394e-01,  1.4721e-01, -6.7619e-01, -1.2489e-01,\n",
       "        3.8031e-01, -2.8061e-01, -3.9680e-01,  2.4165e-02,  9.8706e-02,\n",
       "        2.4838e-01, -4.5881e-01,  2.0310e-01, -4.3515e-01, -7.7804e-03,\n",
       "       -2.4642e-02, -1.3204e+00, -4.1078e-01,  2.8145e-01,  2.8188e-02,\n",
       "       -2.0470e-01,  1.6037e-01, -1.6696e-01,  1.3761e-01, -3.6714e-01,\n",
       "        1.3801e-01, -2.0688e-01,  3.8274e-01,  2.1289e-01, -7.5001e-02,\n",
       "       -5.0367e-01, -2.9295e-02, -2.1254e-02, -2.4253e-01,  3.3530e-01,\n",
       "       -3.5534e-01,  2.5358e-01,  3.8906e-02,  2.4314e-01, -2.8696e-02],\n",
       "      dtype=float32)"
      ]
     },
     "metadata": {
      "tags": []
     },
     "execution_count": 56
    }
   ]
  },
  {
   "cell_type": "code",
   "metadata": {
    "colab": {
     "base_uri": "https://localhost:8080/"
    },
    "id": "OCit9tNsBZZM",
    "outputId": "98b4bad4-a53d-4a7a-85e4-91fe10f0a516"
   },
   "source": [
    "nlp[word].shape"
   ],
   "execution_count": 57,
   "outputs": [
    {
     "output_type": "execute_result",
     "data": {
      "text/plain": [
       "(300,)"
      ]
     },
     "metadata": {
      "tags": []
     },
     "execution_count": 57
    }
   ]
  },
  {
   "cell_type": "markdown",
   "metadata": {
    "id": "xlXy_9K7B0g5"
   },
   "source": [
    "PCA and decompositions, high-dimension vectors to 2-D"
   ]
  },
  {
   "cell_type": "code",
   "metadata": {
    "colab": {
     "base_uri": "https://localhost:8080/",
     "height": 304
    },
    "id": "AsuW-6NHB6Ke",
    "outputId": "127eba39-8dfb-418d-ef04-981cb83739ef"
   },
   "source": [
    "## find closest vectors\n",
    "labels, X, x, y = [], [], [], []\n",
    "for t in nlp.most_similar(word, topn=20):\n",
    "    X.append(nlp[t[0]])\n",
    "    labels.append(t[0])\n",
    "## reduce dimensions\n",
    "pca = manifold.TSNE(perplexity=40, n_components=2, init='pca')\n",
    "new_values = pca.fit_transform(X)\n",
    "for value in new_values:\n",
    "    x.append(value[0])\n",
    "    y.append(value[1])\n",
    "## plot\n",
    "fig = plt.figure()\n",
    "for i in range(len(x)):\n",
    "    plt.scatter(x[i], y[i], c=\"black\")\n",
    "    plt.annotate(labels[i], xy=(x[i],y[i]), xytext=(5,2), \n",
    "               textcoords='offset points', ha='right', va='bottom')\n",
    "## add center\n",
    "'''\n",
    "plt.scatter(x=0, y=0, c=\"red\")\n",
    "plt.annotate(word, xy=(0,0), xytext=(5,2), textcoords='offset \n",
    "             points', ha='right', va='bottom')\n",
    "             '''"
   ],
   "execution_count": 59,
   "outputs": [
    {
     "output_type": "execute_result",
     "data": {
      "application/vnd.google.colaboratory.intrinsic+json": {
       "type": "string"
      },
      "text/plain": [
       "'\\nplt.scatter(x=0, y=0, c=\"red\")\\nplt.annotate(word, xy=(0,0), xytext=(5,2), textcoords=\\'offset \\n             points\\', ha=\\'right\\', va=\\'bottom\\')\\n             '"
      ]
     },
     "metadata": {
      "tags": []
     },
     "execution_count": 59
    },
    {
     "output_type": "display_data",
     "data": {
      "image/png": "[encoded data removed]",
      "text/plain": [
       "<Figure size 432x288 with 1 Axes>"
      ]
     },
     "metadata": {
      "tags": [],
      "needs_background": "light"
     }
    }
   ]
  },
  {
   "cell_type": "markdown",
   "metadata": {
    "id": "77SD20QADtQ-"
   },
   "source": [
    "Reference:\n",
    "https://towardsdatascience.com/text-analysis-feature-engineering-with-nlp-502d6ea9225d"
   ]
  },
  {
   "cell_type": "markdown",
   "metadata": {
    "id": "8cosSzGyv5Dw"
   },
   "source": []
  }
 ]
}
